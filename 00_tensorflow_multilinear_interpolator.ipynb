{
 "cells": [
  {
   "cell_type": "markdown",
   "metadata": {},
   "source": [
    "## Developing a tensorflow based multilinear interpolator\n",
    "\n",
    "Author: Vicente Paul Guerrero Lule\n",
    "\n",
    "Date: 24.02.2019"
   ]
  },
  {
   "cell_type": "code",
   "execution_count": 1,
   "metadata": {},
   "outputs": [],
   "source": [
    "import tensorflow as tf\n",
    "import numpy as np\n",
    "import sys, os\n",
    "import matplotlib.pyplot as plt\n",
    "%matplotlib inline\n",
    "import time\n",
    "import imageio\n",
    "\n",
    "wk_dir = os.path.abspath(os.path.dirname('__file__'))"
   ]
  },
  {
   "cell_type": "code",
   "execution_count": 2,
   "metadata": {},
   "outputs": [],
   "source": [
    "file_name = 'images/android.png'\n",
    "file_path = os.path.join(wk_dir, file_name)"
   ]
  },
  {
   "cell_type": "code",
   "execution_count": 3,
   "metadata": {},
   "outputs": [
    {
     "data": {
      "image/png": "[encoded data removed]",
      "text/plain": [
       "<IPython.core.display.Image object>"
      ]
     },
     "execution_count": 3,
     "metadata": {},
     "output_type": "execute_result"
    }
   ],
   "source": [
    "# Original\n",
    "from IPython.display import Image\n",
    "Image(file_name)"
   ]
  },
  {
   "cell_type": "markdown",
   "metadata": {},
   "source": [
    "# A simple 3D example using the same image"
   ]
  },
  {
   "cell_type": "code",
   "execution_count": 4,
   "metadata": {},
   "outputs": [
    {
     "name": "stdout",
     "output_type": "stream",
     "text": [
      "(245, 206, 4)\n",
      "(1, 245, 206, 3, 4)\n"
     ]
    },
    {
     "data": {
      "image/png": "[encoded data removed]",
      "text/plain": [
       "<Figure size 648x720 with 3 Axes>"
      ]
     },
     "metadata": {
      "needs_background": "light"
     },
     "output_type": "display_data"
    }
   ],
   "source": [
    "# build a 3d volume based on 3 images\n",
    "file_name = 'images/android_black.png'\n",
    "file_path = os.path.join(wk_dir, file_name)\n",
    "image_black = imageio.imread(file_name).astype(np.float32)\n",
    "file_name = 'images/android.png'\n",
    "file_path = os.path.join(wk_dir, file_name)\n",
    "image_orig = imageio.imread(file_name).astype(np.float32)\n",
    "file_name = 'images/android_white.png'\n",
    "file_path = os.path.join(wk_dir, file_name)\n",
    "image_white = imageio.imread(file_name).astype(np.float32)\n",
    "print(image_white.shape)\n",
    "\n",
    "d3_volume = np.zeros((1, 245, 206, 3, 4))\n",
    "d3_volume[0,:,:,0,:] = image_black\n",
    "d3_volume[0,:,:,1,:] = image_orig\n",
    "d3_volume[0,:,:,2,:] = image_white\n",
    "print(d3_volume.shape)\n",
    "\n",
    "fig = plt.figure(figsize=(9,10))\n",
    "for i in range(3):\n",
    "    ax = fig.add_subplot(1, 3, i+1)\n",
    "    ax.imshow(d3_volume[0,:,:,i,:].astype(np.int32))\n",
    "    ax.axis('off')  # clear x-axis and y-axis\n",
    "plt.show()"
   ]
  },
  {
   "cell_type": "markdown",
   "metadata": {},
   "source": [
    "### For the 3d case"
   ]
  },
  {
   "cell_type": "code",
   "execution_count": 5,
   "metadata": {},
   "outputs": [],
   "source": [
    "def _resize_by_axis_trilinear(image, dim_1, dim_2, ax):\n",
    "\n",
    "    resized_list = []\n",
    "\n",
    "    # unstack the image in 2d cases\n",
    "    unstack_list = tf.unstack(image, axis = ax)\n",
    "    for i in unstack_list:\n",
    "        resized_list.append(tf.image.resize_bilinear(i, [dim_1, dim_2]))\n",
    "    stack_img = tf.stack(resized_list, axis=ax)\n",
    "\n",
    "    return stack_img"
   ]
  },
  {
   "cell_type": "code",
   "execution_count": 6,
   "metadata": {},
   "outputs": [],
   "source": [
    "def resize_trilinear(content, size):\n",
    "    assert size.shape[0] == 3\n",
    "    resized = _resize_by_axis_trilinear(content, size[0], size[1], 2)\n",
    "    resized = _resize_by_axis_trilinear(resized, size[0], size[2], 1)\n",
    "    return resized"
   ]
  },
  {
   "cell_type": "code",
   "execution_count": 7,
   "metadata": {},
   "outputs": [],
   "source": [
    "new_size = np.ones((3), dtype=np.int32)\n",
    "new_size[0] = 100\n",
    "new_size[1] = 100\n",
    "new_size[2] = 5"
   ]
  },
  {
   "cell_type": "code",
   "execution_count": 8,
   "metadata": {},
   "outputs": [
    {
     "name": "stdout",
     "output_type": "stream",
     "text": [
      "Execution time: 1.4383647441864014\n",
      "(1, 100, 100, 5, 4)\n"
     ]
    }
   ],
   "source": [
    "image_content = tf.constant(d3_volume, dtype=tf.int32)\n",
    "resized = resize_trilinear(image_content, new_size)\n",
    "images_resized_int = tf.cast(resized, tf.int32)\n",
    "\n",
    "start = time.time()\n",
    "with tf.Session() as sess:\n",
    "    tf_result = sess.run(images_resized_int)\n",
    "print('Execution time:', time.time() - start)\n",
    "print(tf_result.shape)"
   ]
  },
  {
   "cell_type": "code",
   "execution_count": 9,
   "metadata": {
    "scrolled": true
   },
   "outputs": [
    {
     "data": {
      "image/png": "[encoded data removed]",
      "text/plain": [
       "<Figure size 1080x720 with 5 Axes>"
      ]
     },
     "metadata": {
      "needs_background": "light"
     },
     "output_type": "display_data"
    }
   ],
   "source": [
    "fig = plt.figure(figsize=(15,10))\n",
    "\n",
    "for i in range(5):\n",
    "    ax = fig.add_subplot(1, 5, i+1)\n",
    "    ax.imshow(tf_result[0,:,:,i,:].astype(np.int32))\n",
    "    ax.axis('off')  # clear x-axis and y-axis\n",
    "plt.show()"
   ]
  },
  {
   "cell_type": "markdown",
   "metadata": {},
   "source": [
    "### For the 4d case"
   ]
  },
  {
   "cell_type": "code",
   "execution_count": 10,
   "metadata": {},
   "outputs": [],
   "source": [
    "def _resize_by_axis_tetralinear(image, dim_1, dim_2, dim_3, ax):\n",
    "\n",
    "    resized_list = []\n",
    "\n",
    "    # unstack the image in 3d cases\n",
    "    unstack_list = tf.unstack(image, axis = ax)\n",
    "    for i in unstack_list:\n",
    "        resized_list.append(resize_trilinear(i, np.array([dim_1, dim_2, dim_3])))\n",
    "    stack_img = tf.stack(resized_list, axis=ax)\n",
    "\n",
    "    return stack_img"
   ]
  },
  {
   "cell_type": "code",
   "execution_count": 11,
   "metadata": {},
   "outputs": [],
   "source": [
    "def resize_tetralinear(content, size):\n",
    "    assert size.shape[0] == 4\n",
    "    resized = _resize_by_axis_tetralinear(content, size[0], size[1], size[2], 4)\n",
    "    resized = _resize_by_axis_tetralinear(resized, size[0], size[1], size[3], 3)\n",
    "    return resized"
   ]
  },
  {
   "cell_type": "code",
   "execution_count": 12,
   "metadata": {},
   "outputs": [
    {
     "data": {
      "text/plain": [
       "(1, 20, 20, 3, 3, 4)"
      ]
     },
     "execution_count": 12,
     "metadata": {},
     "output_type": "execute_result"
    }
   ],
   "source": [
    "# create a random dataset\n",
    "d4_volume = np.random.rand(1, 20, 20, 3, 3, 4)  #20x20x3x3\n",
    "d4_volume = d4_volume * 255.0\n",
    "d4_volume = d4_volume.astype(np.int32)\n",
    "d4_volume.shape"
   ]
  },
  {
   "cell_type": "code",
   "execution_count": 13,
   "metadata": {},
   "outputs": [],
   "source": [
    "new_size = np.ones((4), dtype=np.int32)\n",
    "new_size[0] = 12\n",
    "new_size[1] = 12\n",
    "new_size[2] = 5\n",
    "new_size[3] = 5"
   ]
  },
  {
   "cell_type": "code",
   "execution_count": 14,
   "metadata": {},
   "outputs": [
    {
     "name": "stdout",
     "output_type": "stream",
     "text": [
      "Execution time: 0.05700874328613281\n",
      "(1, 12, 12, 5, 5, 4)\n"
     ]
    }
   ],
   "source": [
    "image_content = tf.constant(d4_volume, dtype=tf.int32)\n",
    "resized = resize_tetralinear(image_content, new_size)\n",
    "images_resized_int = tf.cast(resized, tf.int32)\n",
    "\n",
    "start = time.time()\n",
    "with tf.Session() as sess:\n",
    "    tf_result = sess.run(images_resized_int)\n",
    "print('Execution time:', time.time() - start)\n",
    "print(tf_result.shape)"
   ]
  },
  {
   "cell_type": "markdown",
   "metadata": {},
   "source": [
    "#### Compare with the python based algorithm"
   ]
  },
  {
   "cell_type": "code",
   "execution_count": 15,
   "metadata": {},
   "outputs": [],
   "source": [
    "from interpolators.multilinear_inter_n_dim import resize_multilinear_py"
   ]
  },
  {
   "cell_type": "code",
   "execution_count": 16,
   "metadata": {},
   "outputs": [
    {
     "name": "stdout",
     "output_type": "stream",
     "text": [
      "Execution time: 1.4993724822998047\n",
      "(1, 12, 12, 5, 5, 4)\n"
     ]
    }
   ],
   "source": [
    "# Do the interpolation\n",
    "start = time.time()\n",
    "d4_resized_py = resize_multilinear_py(d4_volume, new_size)\n",
    "print('Execution time:', time.time() - start)\n",
    "print(d4_resized_py.shape)"
   ]
  },
  {
   "cell_type": "code",
   "execution_count": 17,
   "metadata": {},
   "outputs": [
    {
     "name": "stdout",
     "output_type": "stream",
     "text": [
      "Max difference: 0\n"
     ]
    }
   ],
   "source": [
    "diff = tf_result - d4_resized_py\n",
    "print('Max difference:', diff.max())"
   ]
  },
  {
   "cell_type": "code",
   "execution_count": 18,
   "metadata": {},
   "outputs": [
    {
     "name": "stdout",
     "output_type": "stream",
     "text": [
      "Difference in averages: -0.48027777777778624\n"
     ]
    }
   ],
   "source": [
    "diff = tf_result.mean() - d4_resized_py.mean()\n",
    "print('Difference in averages:', diff)"
   ]
  },
  {
   "cell_type": "markdown",
   "metadata": {},
   "source": [
    "### For the Nd case"
   ]
  },
  {
   "cell_type": "code",
   "execution_count": 19,
   "metadata": {},
   "outputs": [],
   "source": [
    "def resize_multilinear_tf(content, size):\n",
    "    if size.shape[0] == 2:\n",
    "        resized = tf.image.resize_bilinear(content, size)\n",
    "    elif size.shape[0] == 3:\n",
    "        resized = resize_trilinear(content, size)\n",
    "    elif size.shape[0] == 4:\n",
    "        resized = resize_tetralinear(content, size)\n",
    "    else:\n",
    "        raise NotImplementedError('resize_multilinear_tf: dimensions \\\n",
    "                                    higuer than 4 are not supported.')\n",
    "    return resized"
   ]
  },
  {
   "cell_type": "code",
   "execution_count": 20,
   "metadata": {},
   "outputs": [
    {
     "name": "stdout",
     "output_type": "stream",
     "text": [
      "Execution time: 0.06494283676147461\n",
      "(1, 12, 12, 5, 5, 4)\n"
     ]
    }
   ],
   "source": [
    "# short test\n",
    "image_content = tf.constant(d4_volume, dtype=tf.int32)\n",
    "resized = resize_multilinear_tf(image_content, new_size)\n",
    "images_resized_int = tf.cast(resized, tf.int32)\n",
    "\n",
    "start = time.time()\n",
    "with tf.Session() as sess:\n",
    "    tf_result = sess.run(images_resized_int)\n",
    "print('Execution time:', time.time() - start)\n",
    "print(tf_result.shape)"
   ]
  },
  {
   "cell_type": "code",
   "execution_count": null,
   "metadata": {},
   "outputs": [],
   "source": []
  },
  {
   "cell_type": "code",
   "execution_count": null,
   "metadata": {},
   "outputs": [],
   "source": []
  },
  {
   "cell_type": "markdown",
   "metadata": {},
   "source": [
    "I could not generalize it for the N case, but this implementation is easily expandable to higher dimensions. "
   ]
  },
  {
   "cell_type": "code",
   "execution_count": null,
   "metadata": {},
   "outputs": [],
   "source": []
  }
 ],
 "metadata": {
  "kernelspec": {
   "display_name": "multi_resize",
   "language": "python",
   "name": "multi_resize"
  },
  "language_info": {
   "codemirror_mode": {
    "name": "ipython",
    "version": 3
   },
   "file_extension": ".py",
   "mimetype": "text/x-python",
   "name": "python",
   "nbconvert_exporter": "python",
   "pygments_lexer": "ipython3",
   "version": "3.6.8"
  }
 },
 "nbformat": 4,
 "nbformat_minor": 2
}
