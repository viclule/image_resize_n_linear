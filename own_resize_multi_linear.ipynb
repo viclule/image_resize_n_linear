{
 "cells": [
  {
   "cell_type": "markdown",
   "metadata": {},
   "source": [
    "## Own resize multilinear\n",
    "\n",
    "A function that implements linear interpolation for N Dimensions."
   ]
  },
  {
   "cell_type": "code",
   "execution_count": 1,
   "metadata": {},
   "outputs": [],
   "source": [
    "import tensorflow as tf"
   ]
  },
  {
   "cell_type": "code",
   "execution_count": 2,
   "metadata": {},
   "outputs": [],
   "source": [
    "def get_string_binary(number, lenght):\n",
    "    number_bin = format(number, \"b\")\n",
    "    string_binary = '0'*lenght\n",
    "    string_binary = position_to_read[:lenght-len(number_bin)] + number_bin\n",
    "    return string_binary"
   ]
  },
  {
   "cell_type": "code",
   "execution_count": null,
   "metadata": {},
   "outputs": [],
   "source": [
    "def get_multilinear_value(channel, position):\n",
    "    \"\"\"\n",
    "    Calculates the interpolated value for a given position in the channel content.\n",
    "    args:\n",
    "        channel: A N-D Tensor [D0, D1, ..., DN-1]\n",
    "        position: A 1-D float32 Tensor of N elements. Contents the position in the channel. \n",
    "    \"\"\"\n",
    "    N = position.size[0]\n",
    "    # Dictionary with the values around the target position and the fraction\n",
    "    # of the position\n",
    "    surrounds = {}\n",
    "    \n",
    "    # for each dimension\n",
    "    for d in N:\n",
    "        integer_part = int(position[d])\n",
    "        fraction_part = position[d] - integer_part\n",
    "        integer_part_plus_one = min(integer_part + 1, channel.shape[d] - 1)\n",
    "        \n",
    "        surrounds[d] = {'0': integer_part,\n",
    "                        '1': integer_part_plus_one,\n",
    "                        'T': fraction_part}\n",
    "\n",
    "    # values at the positions around the target in order as in a binary\n",
    "    # increasing number\n",
    "    values = []\n",
    "    for i in range(2**N):\n",
    "        position_to_read = get_string_binary(i, N)\n",
    "        # coordinate\n",
    "        coordinate = []\n",
    "        # l_r left or right, ic can be '0' or '1'\n",
    "        for d, l_r in enumerate(reversed(range(len(position_to_read)))):\n",
    "            coordinate.append(surrounds.get(d).get(l_r))\n",
    "        values.append(channel[coordinate])\n",
    "        \n",
    "    # With the values at the surrounding and the fractions,\n",
    "    # the multilinear interpolation can take place\n",
    "    value = 0\n",
    "    \n",
    "    for i in range(2**N):\n",
    "        temp = 1.0\n",
    "        position_to_read = get_string_binary(i, N)\n",
    "        for d, l_r in enumerate(reversed(range(len(position_to_read)))):\n",
    "            if l_r == '0':\n",
    "                temp = temp * (1.0 - surrounds.get(d).get('T'))\n",
    "            else:\n",
    "                temp = temp * surrounds.get(d).get('T')\n",
    "        temp = temp * values(i)\n",
    "        value = value + temp\n",
    "    return value"
   ]
  },
  {
   "cell_type": "code",
   "execution_count": null,
   "metadata": {},
   "outputs": [],
   "source": [
    "def resize_multilinear(content, size):\n",
    "    \"\"\"\n",
    "    Resizes content in N dimensions to size using multiliniear interpolation.\n",
    "    args:\n",
    "        images: An (N + 2)-D Tensor [batch, D0, D1, ..., DN-1, channels]\n",
    "        size: A 1-D int32 Tensor of N elements: new_0D, new_1D,..new_N-1D \n",
    "    \"\"\"\n",
    "    \n",
    "    def get_multilinear_pixel(channel, position):\n",
    "        \"\"\"\n",
    "        Calculates the interpolated value for a given position in the channel content.\n",
    "        args:\n",
    "            channel: A N-D Tensor [D0, D1, ..., DN-1]\n",
    "            position: A 1-D float32 Tensor of N elements. Contents the position in the channel. \n",
    "        \"\"\"\n",
    "        \n",
    "    for d in N:\n",
    "        # for each dimension\n",
    "        for c in range(enlargedImg.shape[1]):\n",
    "            "
   ]
  },
  {
   "cell_type": "code",
   "execution_count": null,
   "metadata": {},
   "outputs": [],
   "source": [
    "def get_multilinear_value(channel, position):\n",
    "    \"\"\"\n",
    "    Calculates the interpolated value for a given position in the channel content.\n",
    "    args:\n",
    "        channel: A N-D Tensor [D0, D1, ..., DN-1]\n",
    "        position: A 1-D float32 Tensor of N elements. Contents the position in the channel. \n",
    "    \"\"\"\n",
    "    N = position.size[0]\n",
    "    # Dictionary with the values around the target position and the fraction\n",
    "    # of the position\n",
    "    surrounds = {}\n",
    "    \n",
    "    # for each dimension\n",
    "    for d in N:\n",
    "        integer_part = int(position[d])\n",
    "        fraction_part = position[d] - integer_part\n",
    "        integer_part_plus_one = min(integer_part + 1, channel.shape[d] - 1)\n",
    "        \n",
    "        surrounds[d] = {'0': integer_part,\n",
    "                        '1': integer_part_plus_one,\n",
    "                        'T': fraction_part}\n",
    "\n",
    "    # values at the positions around the target in order as in a binary\n",
    "    # increasing number\n",
    "    for i in range(2**N):\n",
    "        "
   ]
  },
  {
   "cell_type": "code",
   "execution_count": null,
   "metadata": {},
   "outputs": [],
   "source": []
  },
  {
   "cell_type": "code",
   "execution_count": null,
   "metadata": {},
   "outputs": [],
   "source": []
  },
  {
   "cell_type": "code",
   "execution_count": null,
   "metadata": {},
   "outputs": [],
   "source": [
    "def GetBilinearPixel(imArr, posX, posY):\n",
    "\tout = []\n",
    " \n",
    "\t#Get integer and fractional parts of numbers\n",
    "\tmodXi = int(posX)\n",
    "\tmodYi = int(posY)\n",
    "\tmodXf = posX - modXi\n",
    "\tmodYf = posY - modYi\n",
    "\tmodXiPlusOneLim = min(modXi+1,imArr.shape[1]-1)\n",
    "\tmodYiPlusOneLim = min(modYi+1,imArr.shape[0]-1)\n",
    " \n",
    "\t#Get pixels in four corners\n",
    "\tfor chan in range(imArr.shape[2]):\n",
    "\t\tbl = imArr[modYi, modXi, chan]\n",
    "\t\tbr = imArr[modYi, modXiPlusOneLim, chan]\n",
    "\t\ttl = imArr[modYiPlusOneLim, modXi, chan]\n",
    "\t\ttr = imArr[modYiPlusOneLim, modXiPlusOneLim, chan]\n",
    " \n",
    "\t\t#Calculate interpolation\n",
    "\t\tb = modXf * br + (1. - modXf) * bl\n",
    "\t\tt = modXf * tr + (1. - modXf) * tl\n",
    "\t\tpxf = modYf * t + (1. - modYf) * b\n",
    "\t\tout.append(int(pxf+0.5))\n",
    " \n",
    "\treturn out\n",
    " \n",
    "if __name__==\"__main__\":\n",
    " \n",
    "\tim = imread(\"test.jpg\", mode=\"RGB\")\n",
    "\tenlargedShape = list(map(int, [im.shape[0]*1.6, im.shape[1]*1.6, im.shape[2]]))\n",
    "\tenlargedImg = np.empty(enlargedShape, dtype=np.uint8)\n",
    "\trowScale = float(im.shape[0]) / float(enlargedImg.shape[0])\n",
    "\tcolScale = float(im.shape[1]) / float(enlargedImg.shape[1])\n",
    " \n",
    "\tfor r in range(enlargedImg.shape[0]):\n",
    "\t\tfor c in range(enlargedImg.shape[1]):\n",
    "\t\t\torir = r * rowScale #Find position in original image\n",
    "\t\t\toric = c * colScale\n",
    "\t\t\tenlargedImg[r, c] = GetBilinearPixel(im, oric, orir)\n",
    " \n",
    "\timshow(enlargedImg)"
   ]
  },
  {
   "cell_type": "code",
   "execution_count": null,
   "metadata": {},
   "outputs": [],
   "source": []
  },
  {
   "cell_type": "code",
   "execution_count": null,
   "metadata": {},
   "outputs": [],
   "source": []
  },
  {
   "cell_type": "code",
   "execution_count": null,
   "metadata": {},
   "outputs": [],
   "source": []
  },
  {
   "cell_type": "code",
   "execution_count": 1,
   "metadata": {},
   "outputs": [],
   "source": [
    "import tensorflow as tf\n",
    "import numpy as np\n",
    "np.set_printoptions(precision=3)\n",
    "import sys, os\n",
    "import matplotlib.pyplot as plt\n",
    "%matplotlib inline\n",
    "\n",
    "wk_dir = os.path.abspath(os.path.dirname('__file__'))"
   ]
  },
  {
   "cell_type": "code",
   "execution_count": 2,
   "metadata": {},
   "outputs": [
    {
     "name": "stdout",
     "output_type": "stream",
     "text": [
      "[[5.   4.2  3.4  2.6  1.8  1.   1.   1.   1.   1.  ]\n",
      " [4.2  3.72 3.24 2.76 2.28 1.8  1.8  1.8  1.8  1.8 ]\n",
      " [3.4  3.24 3.08 2.92 2.76 2.6  2.6  2.6  2.6  2.6 ]\n",
      " [2.6  2.76 2.92 3.08 3.24 3.4  3.4  3.4  3.4  3.4 ]\n",
      " [1.8  2.28 2.76 3.24 3.72 4.2  4.2  4.2  4.2  4.2 ]\n",
      " [1.   1.8  2.6  3.4  4.2  5.   5.   5.   5.   5.  ]\n",
      " [1.   1.8  2.6  3.4  4.2  5.   5.   5.   5.   5.  ]\n",
      " [1.   1.8  2.6  3.4  4.2  5.   5.   5.   5.   5.  ]\n",
      " [1.   1.8  2.6  3.4  4.2  5.   5.   5.   5.   5.  ]\n",
      " [1.   1.8  2.6  3.4  4.2  5.   5.   5.   5.   5.  ]]\n",
      "<class 'numpy.ndarray'>\n"
     ]
    }
   ],
   "source": [
    "# an image 2x2 with one channel\n",
    "resize_shape = (10, 10)\n",
    "\n",
    "a = np.ones((1, 2, 2, 1), dtype=np.float32)\n",
    "a[0, 0, 0, 0] = 5.0\n",
    "a[0, 1, 1, 0] = 5.0\n",
    "\n",
    "b = tf.constant(a, dtype=tf.float32)\n",
    "c = tf.image.resize_bilinear(b, resize_shape)\n",
    "\n",
    "with tf.Session() as sess:\n",
    "    np_c = sess.run(c)\n",
    "    print(np_c[0, :, :, 0])\n",
    "    print(type(np_c))"
   ]
  },
  {
   "cell_type": "code",
   "execution_count": 3,
   "metadata": {},
   "outputs": [],
   "source": [
    "# read an image and resize it\n",
    "file_name = 'images/android.png'\n",
    "file_path = os.path.join(wk_dir, file_name)"
   ]
  },
  {
   "cell_type": "code",
   "execution_count": 4,
   "metadata": {
    "scrolled": true
   },
   "outputs": [
    {
     "data": {
      "image/png": "[encoded data removed]",
      "text/plain": [
       "<IPython.core.display.Image object>"
      ]
     },
     "execution_count": 4,
     "metadata": {},
     "output_type": "execute_result"
    }
   ],
   "source": [
    "from IPython.display import Image\n",
    "Image(file_name)"
   ]
  },
  {
   "cell_type": "code",
   "execution_count": 5,
   "metadata": {},
   "outputs": [
    {
     "name": "stdout",
     "output_type": "stream",
     "text": [
      "[[255 255 255 ... 255 255 255]\n",
      " [255 255 255 ... 255 255 255]\n",
      " [255 255 255 ... 255 255 255]\n",
      " ...\n",
      " [255 255 255 ... 255 255 255]\n",
      " [255 255 255 ... 255 255 255]\n",
      " [255 255 255 ... 255 255 255]]\n"
     ]
    }
   ],
   "source": [
    "resize_shape = (100, 100)\n",
    "\n",
    "\n",
    "image_content = tf.read_file(file_path)\n",
    "image_decoded = tf.image.decode_png(image_content, channels=0)\n",
    "images = tf.expand_dims(image_decoded, 0)\n",
    "images_resized = tf.image.resize_bilinear(images, resize_shape)\n",
    "images_resized_int = tf.cast(images_resized, tf.int32)\n",
    "with tf.Session() as sess:\n",
    "    np_c = sess.run(images_resized_int)\n",
    "    print(np_c[0, :, :, 0])"
   ]
  },
  {
   "cell_type": "code",
   "execution_count": 6,
   "metadata": {},
   "outputs": [
    {
     "data": {
      "image/png": "[encoded data removed]",
      "text/plain": [
       "<Figure size 432x288 with 1 Axes>"
      ]
     },
     "metadata": {
      "needs_background": "light"
     },
     "output_type": "display_data"
    }
   ],
   "source": [
    "fig, ax = plt.subplots()\n",
    "ax.imshow(np_c[0, :, :, :])\n",
    "ax.axis('off')  # clear x-axis and y-axis\n",
    "plt.show()"
   ]
  },
  {
   "cell_type": "code",
   "execution_count": null,
   "metadata": {},
   "outputs": [],
   "source": []
  },
  {
   "cell_type": "code",
   "execution_count": null,
   "metadata": {},
   "outputs": [],
   "source": []
  }
 ],
 "metadata": {
  "kernelspec": {
   "display_name": "zeiss",
   "language": "python",
   "name": "zeiss"
  },
  "language_info": {
   "codemirror_mode": {
    "name": "ipython",
    "version": 3
   },
   "file_extension": ".py",
   "mimetype": "text/x-python",
   "name": "python",
   "nbconvert_exporter": "python",
   "pygments_lexer": "ipython3",
   "version": "3.6.7"
  }
 },
 "nbformat": 4,
 "nbformat_minor": 2
}
