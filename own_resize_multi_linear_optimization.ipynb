{
 "cells": [
  {
   "cell_type": "markdown",
   "metadata": {},
   "source": [
    "## Own resize multilinear\n",
    "\n",
    "A function that implements linear interpolation for N Dimensions."
   ]
  },
  {
   "cell_type": "code",
   "execution_count": 7,
   "metadata": {},
   "outputs": [],
   "source": [
    "import tensorflow as tf\n",
    "import numpy as np\n",
    "import sys, os\n",
    "import matplotlib.pyplot as plt\n",
    "%matplotlib inline\n",
    "import time\n",
    "\n",
    "wk_dir = os.path.abspath(os.path.dirname('__file__'))"
   ]
  },
  {
   "cell_type": "code",
   "execution_count": 8,
   "metadata": {},
   "outputs": [],
   "source": [
    "def _get_string_binary(number, lenght):\n",
    "    number_bin = format(number, \"b\")\n",
    "    string_binary = '0'*lenght\n",
    "    string_binary = string_binary[:lenght-len(number_bin)] + number_bin\n",
    "    return string_binary"
   ]
  },
  {
   "cell_type": "code",
   "execution_count": 9,
   "metadata": {},
   "outputs": [],
   "source": [
    "def _get_multilinear_value(channel, position):\n",
    "    \"\"\"\n",
    "    Calculates the interpolated value for a given position in the channel content.\n",
    "    args:\n",
    "        channel: A N-D Tensor [D0, D1, ..., DN-1]\n",
    "        position: A 1-D float32 Tensor of N elements. Contents the position in the channel. \n",
    "    \"\"\"\n",
    "    N = position.shape[0]\n",
    "    # Dictionary with the values around the target position and the fraction\n",
    "    # of the position\n",
    "    surrounds = {}\n",
    "    \n",
    "    # for each dimension extract the coordinates near to the position 'T'\n",
    "    for d in range(N):\n",
    "        integer_part = int(position[d])\n",
    "        fraction_part = position[d] - integer_part\n",
    "        integer_part_plus_one = min(integer_part + 1, channel.shape[d] - 1)\n",
    "        \n",
    "        surrounds[d] = {'0': integer_part,\n",
    "                        '1': integer_part_plus_one,\n",
    "                        'T': fraction_part}\n",
    "\n",
    "    value = 0\n",
    "    # for each element in the multilinear calculation\n",
    "    for i in range(2**N):\n",
    "        temp = 1.0\n",
    "        # position of the element in the format '0000101'\n",
    "        position_to_read = _get_string_binary(i, N)\n",
    "        \n",
    "        coordinate = []\n",
    "        # l_r left or right, ic can be '0' or '1'\n",
    "        for d, l_r in enumerate(reversed(range(len(position_to_read)))):\n",
    "            # coordinate in the channel of the value multiplying the element \n",
    "            coordinate.append(surrounds.get(d).get(position_to_read[l_r]))\n",
    "            \n",
    "            # multiplication in the element\n",
    "            if position_to_read[l_r] == '0':\n",
    "                temp = temp * (1.0 - surrounds.get(d).get('T'))\n",
    "            else:\n",
    "                temp = temp * surrounds.get(d).get('T')\n",
    "        \n",
    "        # the element times the value at the coordinate in the channel\n",
    "        temp = temp * channel.item(tuple(coordinate))\n",
    "        # summing all the elements\n",
    "        value = value + temp\n",
    "\n",
    "    return int(value + 0.5)"
   ]
  },
  {
   "cell_type": "code",
   "execution_count": 10,
   "metadata": {},
   "outputs": [
    {
     "name": "stdout",
     "output_type": "stream",
     "text": [
      "value: 45\n"
     ]
    }
   ],
   "source": [
    "# test\n",
    "a = np.ones((6, 4), dtype=np.float32)\n",
    "a[:, 0] = 50.0\n",
    "#a[4, :] = 5.0\n",
    "\n",
    "position = np.ones((2), dtype=np.float32)\n",
    "position[0] = 0.1\n",
    "position[1] = 0.1\n",
    "\n",
    "\n",
    "value = get_multilinear_value(a, position)\n",
    "print('value:', value)"
   ]
  },
  {
   "cell_type": "code",
   "execution_count": null,
   "metadata": {},
   "outputs": [],
   "source": []
  },
  {
   "cell_type": "code",
   "execution_count": 11,
   "metadata": {},
   "outputs": [],
   "source": [
    "def _resize_channel_multilinear(channel, size):\n",
    "    \"\"\"\n",
    "    Resizes content in N dimensions to size using multiliniear interpolation.\n",
    "    args:\n",
    "        images: An (N + 2)-D Tensor [D0, D1, ..., DN-1]\n",
    "        size: A 1-D int32 Tensor of N elements: new_0D, new_1D,..new_N-1D \n",
    "    \"\"\"\n",
    "    N = size.shape[0]\n",
    "    # This is the only code limiting N, but can be extended easily\n",
    "    assert N <= 4\n",
    "    assert N >= 2\n",
    "    \n",
    "    # new image\n",
    "    #resized_channel = tf.zeros(size, dtype=tf.int32)\n",
    "    resized_channel = np.zeros(size, dtype = int)\n",
    "    \n",
    "    scale = []\n",
    "    for d in range(N):\n",
    "        scale.append(float(channel.shape[d]) / float(size[d]))\n",
    "    # finds positions in the original image and interpolates\n",
    "    for i in range(size[0]):\n",
    "        for j in range(size[1]):\n",
    "            if N > 2:\n",
    "                for k in range(size[2]):\n",
    "                    if N > 3:\n",
    "                        # Case for N = 4\n",
    "                        for l in range(size[3]):\n",
    "                            pass\n",
    "                    else:\n",
    "                        # Case for N = 3\n",
    "                        pass\n",
    "            else:\n",
    "                # Case for N = 2\n",
    "                position = np.ones((2), dtype=np.float32)\n",
    "                position[0] = i * scale[0]\n",
    "                position[1] = j * scale[1]\n",
    "                value = _get_multilinear_value(channel, position)\n",
    "                resized_channel[i, j] = value\n",
    "    return resized_channel"
   ]
  },
  {
   "cell_type": "code",
   "execution_count": 13,
   "metadata": {},
   "outputs": [
    {
     "name": "stdout",
     "output_type": "stream",
     "text": [
      "value: [[ 1 26 50 26  1  1  1  1]\n",
      " [ 1 26 50 26  1  1  1  1]\n",
      " [ 1 26 50 26  1  1  1  1]\n",
      " [ 1 26 50 26  1  1  1  1]\n",
      " [ 1 26 50 26  1  1  1  1]\n",
      " [ 1 26 50 26  1  1  1  1]\n",
      " [ 1 26 50 26  1  1  1  1]\n",
      " [ 1 26 50 26  1  1  1  1]]\n"
     ]
    }
   ],
   "source": [
    "a = np.ones((4, 4), dtype=np.float32)\n",
    "a[:, 1] = 50.0\n",
    "#a[4, :] = 5.0\n",
    "\n",
    "size = np.ones((2), dtype=np.int32)\n",
    "size[0] = 8\n",
    "size[1] = 8\n",
    "\n",
    "\n",
    "value = _resize_channel_multilinear(a, size)\n",
    "print('value:', value)"
   ]
  },
  {
   "cell_type": "code",
   "execution_count": 14,
   "metadata": {},
   "outputs": [],
   "source": [
    "def resize_multilinear(content, size):\n",
    "    \"\"\"\n",
    "    Resizes content in N dimensions to size using multiliniear interpolation.\n",
    "    args:\n",
    "        images: An (N + 2)-D Tensor [batch, D0, D1, ..., DN-1, channels]\n",
    "        size: A 1-D int32 Tensor of N elements: new_0D, new_1D,..new_N-1D \n",
    "    \"\"\"\n",
    "    batches = content.shape[0]\n",
    "    channels = content.shape[-1]\n",
    "    \n",
    "    new_size = list(content.shape)\n",
    "    new_size[1:len(new_size)-1] = size\n",
    "    \n",
    "    # new content\n",
    "    # resized_channel = tf.zeros(size, dtype=tf.int32)   \n",
    "    resized_content = np.zeros(new_size, dtype=int)\n",
    "    \n",
    "    for batch in range(batches):\n",
    "        for channel in range(channels):\n",
    "            img_channel = content[batch, ..., channel]\n",
    "            resized_channel = _resize_channel_multilinear(img_channel, size)\n",
    "            \n",
    "            resized_content[batch,...,channel] = resized_channel\n",
    "\n",
    "    return resized_content"
   ]
  },
  {
   "cell_type": "code",
   "execution_count": null,
   "metadata": {},
   "outputs": [],
   "source": []
  },
  {
   "cell_type": "code",
   "execution_count": null,
   "metadata": {},
   "outputs": [],
   "source": []
  },
  {
   "cell_type": "code",
   "execution_count": 15,
   "metadata": {},
   "outputs": [],
   "source": [
    "# read an image and resize it\n",
    "file_name = 'images/android.png'\n",
    "file_path = os.path.join(wk_dir, file_name)"
   ]
  },
  {
   "cell_type": "code",
   "execution_count": 16,
   "metadata": {},
   "outputs": [
    {
     "data": {
      "image/png": "[encoded data removed]",
      "text/plain": [
       "<IPython.core.display.Image object>"
      ]
     },
     "execution_count": 16,
     "metadata": {},
     "output_type": "execute_result"
    }
   ],
   "source": [
    "# Original\n",
    "from IPython.display import Image\n",
    "Image(file_name)"
   ]
  },
  {
   "cell_type": "code",
   "execution_count": 17,
   "metadata": {},
   "outputs": [
    {
     "name": "stdout",
     "output_type": "stream",
     "text": [
      "Execution time: 0.7430567741394043\n"
     ]
    },
    {
     "data": {
      "image/png": "[encoded data removed]",
      "text/plain": [
       "<Figure size 432x288 with 1 Axes>"
      ]
     },
     "metadata": {
      "needs_background": "light"
     },
     "output_type": "display_data"
    }
   ],
   "source": [
    "new_size = np.ones((2), dtype=np.int32)\n",
    "new_size[0] = 100\n",
    "new_size[1] = 100\n",
    "\n",
    "# Using resize_multilinear\n",
    "\n",
    "image_content = tf.read_file(file_path)\n",
    "image_decoded = tf.image.decode_png(image_content, channels=0)\n",
    "images = tf.expand_dims(image_decoded, 0)\n",
    "images_resized = tf.py_func(resize_multilinear, [images, new_size], tf.int64)\n",
    "\n",
    "start = time.time()\n",
    "with tf.Session() as sess:\n",
    "    my_result = sess.run(images_resized)\n",
    "print('Execution time:', time.time() - start)\n",
    "    \n",
    "fig, ax = plt.subplots()\n",
    "ax.imshow(my_result[0, :, :, :])\n",
    "ax.axis('off')  # clear x-axis and y-axis\n",
    "plt.show()"
   ]
  },
  {
   "cell_type": "code",
   "execution_count": 18,
   "metadata": {},
   "outputs": [
    {
     "name": "stdout",
     "output_type": "stream",
     "text": [
      "Execution time: 0.005507707595825195\n"
     ]
    },
    {
     "data": {
      "image/png": "[encoded data removed]",
      "text/plain": [
       "<Figure size 432x288 with 1 Axes>"
      ]
     },
     "metadata": {
      "needs_background": "light"
     },
     "output_type": "display_data"
    }
   ],
   "source": [
    "# Using tf.image.resize_bilinear\n",
    "\n",
    "image_content = tf.read_file(file_path)\n",
    "image_decoded = tf.image.decode_png(image_content, channels=0)\n",
    "images = tf.expand_dims(image_decoded, 0)\n",
    "images_resized = tf.image.resize_bilinear(images, new_size)\n",
    "images_resized_int = tf.cast(images_resized, tf.int32)\n",
    "\n",
    "start = time.time()\n",
    "with tf.Session() as sess:\n",
    "    tf_result = sess.run(images_resized_int)\n",
    "print('Execution time:', time.time() - start)\n",
    "\n",
    "fig, ax = plt.subplots()\n",
    "ax.imshow(tf_result[0, :, :, :])\n",
    "ax.axis('off')  # clear x-axis and y-axis\n",
    "plt.show()"
   ]
  },
  {
   "cell_type": "markdown",
   "metadata": {},
   "source": [
    "#### Differences"
   ]
  },
  {
   "cell_type": "code",
   "execution_count": null,
   "metadata": {},
   "outputs": [],
   "source": [
    "diff = my_result[0, :, :, :] - tf_result[0, :, :, :]"
   ]
  },
  {
   "cell_type": "code",
   "execution_count": null,
   "metadata": {},
   "outputs": [],
   "source": [
    "diff[:,:,:].max()"
   ]
  },
  {
   "cell_type": "markdown",
   "metadata": {},
   "source": [
    "There is most probably an error in how floats get rounded to int"
   ]
  },
  {
   "cell_type": "code",
   "execution_count": null,
   "metadata": {},
   "outputs": [],
   "source": []
  }
 ],
 "metadata": {
  "kernelspec": {
   "display_name": "zss",
   "language": "python",
   "name": "zss"
  },
  "language_info": {
   "codemirror_mode": {
    "name": "ipython",
    "version": 3
   },
   "file_extension": ".py",
   "mimetype": "text/x-python",
   "name": "python",
   "nbconvert_exporter": "python",
   "pygments_lexer": "ipython3",
   "version": "3.6.7"
  }
 },
 "nbformat": 4,
 "nbformat_minor": 2
}
