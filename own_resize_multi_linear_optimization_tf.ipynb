{
 "cells": [
  {
   "cell_type": "markdown",
   "metadata": {},
   "source": [
    "## Own resize multilinear\n",
    "\n",
    "A function that implements linear interpolation for N Dimensions."
   ]
  },
  {
   "cell_type": "code",
   "execution_count": 1,
   "metadata": {},
   "outputs": [],
   "source": [
    "import tensorflow as tf\n",
    "import numpy as np\n",
    "import sys, os\n",
    "import matplotlib.pyplot as plt\n",
    "%matplotlib inline\n",
    "import time\n",
    "\n",
    "wk_dir = os.path.abspath(os.path.dirname('__file__'))"
   ]
  },
  {
   "cell_type": "code",
   "execution_count": 2,
   "metadata": {},
   "outputs": [],
   "source": [
    "def _get_string_binary(number, lenght):\n",
    "    number_bin = format(number, \"b\")\n",
    "    string_binary = '0'*lenght\n",
    "    string_binary = string_binary[:lenght-len(number_bin)] + number_bin\n",
    "    return string_binary"
   ]
  },
  {
   "cell_type": "code",
   "execution_count": 8,
   "metadata": {},
   "outputs": [],
   "source": [
    "def _get_multilinear_value(channel, position):\n",
    "    \"\"\"\n",
    "    Calculates the interpolated value for a given position in the channel content.\n",
    "    args:\n",
    "        channel: A N-D Tensor [D0, D1, ..., DN-1]\n",
    "        position: A 1-D float32 Tensor of N elements. Contents the position in the channel. \n",
    "    \"\"\"\n",
    "    N = position.shape[0]\n",
    "    # Dictionary with the values around the target position and the fraction\n",
    "    # of the position\n",
    "    surrounds = {}\n",
    "    \n",
    "    # for each dimension extract the coordinates near to the position 'T'\n",
    "    for d in range(N):\n",
    "        integer_part = int(position[d])\n",
    "        fraction_part = position[d] - integer_part\n",
    "        integer_part_plus_one = min(integer_part + 1, channel.shape[d] - 1)\n",
    "        \n",
    "        surrounds[d] = {'0': integer_part,\n",
    "                        '1': integer_part_plus_one,\n",
    "                        'T': fraction_part}\n",
    "\n",
    "    value = 0\n",
    "    # for each element in the multilinear calculation\n",
    "    for i in range(2**N):\n",
    "        temp = 1.0\n",
    "        # position of the element in the format '0000101'\n",
    "        position_to_read = _get_string_binary(i, N)\n",
    "        \n",
    "        coordinate = []\n",
    "        # l_r left or right, ic can be '0' or '1'\n",
    "        for d, l_r in enumerate(reversed(range(len(position_to_read)))):\n",
    "            # coordinate in the channel of the value multiplying the element \n",
    "            coordinate.append(surrounds.get(d).get(position_to_read[l_r]))\n",
    "            \n",
    "            # multiplication in the element\n",
    "            if position_to_read[l_r] == '0':\n",
    "                temp = temp * (1.0 - surrounds.get(d).get('T'))\n",
    "            else:\n",
    "                temp = temp * surrounds.get(d).get('T')\n",
    "        \n",
    "        # the element times the value at the coordinate in the channel\n",
    "        temp = temp * channel.item(tuple(coordinate))\n",
    "        # summing all the elements\n",
    "        value = value + temp\n",
    "\n",
    "    return int(value + 0.5)"
   ]
  },
  {
   "cell_type": "code",
   "execution_count": 9,
   "metadata": {},
   "outputs": [
    {
     "name": "stdout",
     "output_type": "stream",
     "text": [
      "value: 45\n"
     ]
    }
   ],
   "source": [
    "# test\n",
    "a = np.ones((6, 4), dtype=np.float32)\n",
    "a[:, 0] = 50.0\n",
    "#a[4, :] = 5.0\n",
    "\n",
    "position = np.ones((2), dtype=np.float32)\n",
    "position[0] = 0.1\n",
    "position[1] = 0.1\n",
    "\n",
    "\n",
    "value = get_multilinear_value(a, position)\n",
    "print('value:', value)"
   ]
  },
  {
   "cell_type": "code",
   "execution_count": null,
   "metadata": {},
   "outputs": [],
   "source": []
  },
  {
   "cell_type": "code",
   "execution_count": 10,
   "metadata": {},
   "outputs": [],
   "source": [
    "def _resize_channel_multilinear(channel, size):\n",
    "    \"\"\"\n",
    "    Resizes content in N dimensions to size using multiliniear interpolation.\n",
    "    args:\n",
    "        images: An (N + 2)-D Tensor [D0, D1, ..., DN-1]\n",
    "        size: A 1-D int32 Tensor of N elements: new_0D, new_1D,..new_N-1D \n",
    "    \"\"\"\n",
    "    N = size.shape[0]\n",
    "    # This is the only code limiting N, but can be extended easily\n",
    "    assert N <= 4\n",
    "    assert N >= 2\n",
    "    \n",
    "    # new image\n",
    "    #resized_channel = tf.zeros(size, dtype=tf.int32)\n",
    "    resized_channel = np.zeros(size, dtype = int)\n",
    "    \n",
    "    scale = []\n",
    "    for d in range(N):\n",
    "        scale.append(float(channel.shape[d]) / float(size[d]))\n",
    "    # finds positions in the original image and interpolates\n",
    "    for i in range(size[0]):\n",
    "        for j in range(size[1]):\n",
    "            if N > 2:\n",
    "                for k in range(size[2]):\n",
    "                    if N > 3:\n",
    "                        # Case for N = 4\n",
    "                        for l in range(size[3]):\n",
    "                            pass\n",
    "                    else:\n",
    "                        # Case for N = 3\n",
    "                        pass\n",
    "            else:\n",
    "                # Case for N = 2\n",
    "                position = np.ones((2), dtype=np.float32)\n",
    "                position[0] = i * scale[0]\n",
    "                position[1] = j * scale[1]\n",
    "                value = _get_multilinear_value(channel, position)\n",
    "                resized_channel[i, j] = value\n",
    "    return resized_channel"
   ]
  },
  {
   "cell_type": "code",
   "execution_count": 11,
   "metadata": {},
   "outputs": [
    {
     "name": "stdout",
     "output_type": "stream",
     "text": [
      "value: [[ 1 26 50 26  1  1  1  1]\n",
      " [ 1 26 50 26  1  1  1  1]\n",
      " [ 1 26 50 26  1  1  1  1]\n",
      " [ 1 26 50 26  1  1  1  1]\n",
      " [ 1 26 50 26  1  1  1  1]\n",
      " [ 1 26 50 26  1  1  1  1]\n",
      " [ 1 26 50 26  1  1  1  1]\n",
      " [ 1 26 50 26  1  1  1  1]]\n"
     ]
    }
   ],
   "source": [
    "a = np.ones((4, 4), dtype=np.float32)\n",
    "a[:, 1] = 50.0\n",
    "#a[4, :] = 5.0\n",
    "\n",
    "size = np.ones((2), dtype=np.int32)\n",
    "size[0] = 8\n",
    "size[1] = 8\n",
    "\n",
    "\n",
    "value = _resize_channel_multilinear(a, size)\n",
    "print('value:', value)"
   ]
  },
  {
   "cell_type": "code",
   "execution_count": 62,
   "metadata": {},
   "outputs": [],
   "source": [
    "def resize_multilinear(content, size):\n",
    "    \"\"\"\n",
    "    Resizes content in N dimensions to size using multiliniear interpolation.\n",
    "    args:\n",
    "        images: An (N + 2)-D Tensor [batch, D0, D1, ..., DN-1, channels]\n",
    "        size: A 1-D int32 Tensor of N elements: new_0D, new_1D,..new_N-1D \n",
    "    \"\"\"\n",
    "    batches = content.shape[0]\n",
    "    channels = content.shape[-1]\n",
    "    \n",
    "    new_size = list(content.shape)\n",
    "    new_size[1:len(new_size)-1] = size\n",
    "    \n",
    "    # new content\n",
    "    empty_resized_content = tf.Variable(tf.zeros(new_size, dtype=tf.int32))\n",
    "    # resized_content = np.zeros(new_size, dtype=int)\n",
    "    \n",
    "    # Loop in the tensor\n",
    "    def cond(batch, channel, _):\n",
    "        return (channel < channels)\n",
    "\n",
    "    def body(batch, channel, _):\n",
    "        batch_i = batch.value\n",
    "        channel_i = channel\n",
    "        img_channel = content[batch_i,...,channel_i]\n",
    "        resized_channel = _resize_channel_multilinear(img_channel, size)\n",
    "        \n",
    "        op = tf.assign(resized_content[batch,...,channel], resized_channel)\n",
    "        \n",
    "        with tf.control_dependencies([op]):\n",
    "            # increment counters\n",
    "            if channel == channels:\n",
    "                channel_plus = 0\n",
    "                batch_plus = tf.add(batch, 1)\n",
    "            else:\n",
    "                channel_plus = tf.add(channel, 1)\n",
    "                batch_plus = batch\n",
    "\n",
    "            return batch_plus, channel_plus, op\n",
    "    \n",
    "    _, _, resized_content = tf.while_loop(cond, body, [0, 0, empty_resized_content])\n",
    "\n",
    "    \n",
    "#     for batch in range(batches):\n",
    "#         for channel in range(channels):\n",
    "#             img_channel = content[batch, ..., channel]\n",
    "#             resized_channel = _resize_channel_multilinear(img_channel, size)\n",
    "            \n",
    "#             # assign to the resized_content tensor\n",
    "#             resized_content = resized_content[batch,...,channel].assign(resized_channel)\n",
    "\n",
    "    return resized_content"
   ]
  },
  {
   "cell_type": "code",
   "execution_count": null,
   "metadata": {},
   "outputs": [],
   "source": []
  },
  {
   "cell_type": "code",
   "execution_count": null,
   "metadata": {},
   "outputs": [],
   "source": []
  },
  {
   "cell_type": "code",
   "execution_count": 63,
   "metadata": {},
   "outputs": [],
   "source": [
    "# read an image and resize it\n",
    "file_name = 'images/android.png'\n",
    "file_path = os.path.join(wk_dir, file_name)"
   ]
  },
  {
   "cell_type": "code",
   "execution_count": 64,
   "metadata": {},
   "outputs": [
    {
     "data": {
      "image/png": "[encoded data removed]",
      "text/plain": [
       "<IPython.core.display.Image object>"
      ]
     },
     "execution_count": 64,
     "metadata": {},
     "output_type": "execute_result"
    }
   ],
   "source": [
    "# Original\n",
    "from IPython.display import Image\n",
    "Image(file_name)"
   ]
  },
  {
   "cell_type": "code",
   "execution_count": 65,
   "metadata": {},
   "outputs": [
    {
     "ename": "UnknownError",
     "evalue": "AttributeError: 'Tensor' object has no attribute 'value'\nTraceback (most recent call last):\n\n  File \"/home/viclule/zss/image_resize_n_linear/venv/lib/python3.6/site-packages/tensorflow/python/ops/script_ops.py\", line 206, in __call__\n    ret = func(*args)\n\n  File \"<ipython-input-62-d88e2304ccfb>\", line 41, in resize_multilinear\n    _, _, resized_content = tf.while_loop(cond, body, [0, 0, empty_resized_content])\n\n  File \"/home/viclule/zss/image_resize_n_linear/venv/lib/python3.6/site-packages/tensorflow/python/ops/control_flow_ops.py\", line 3291, in while_loop\n    return_same_structure)\n\n  File \"/home/viclule/zss/image_resize_n_linear/venv/lib/python3.6/site-packages/tensorflow/python/ops/control_flow_ops.py\", line 3004, in BuildLoop\n    pred, body, original_loop_vars, loop_vars, shape_invariants)\n\n  File \"/home/viclule/zss/image_resize_n_linear/venv/lib/python3.6/site-packages/tensorflow/python/ops/control_flow_ops.py\", line 2939, in _BuildLoop\n    body_result = body(*packed_vars_for_body)\n\n  File \"<ipython-input-62-d88e2304ccfb>\", line 23, in body\n    batch_i = batch.value\n\nAttributeError: 'Tensor' object has no attribute 'value'\n\n\n\t [[node PyFunc_13 (defined at <ipython-input-65-a5d31db2842e>:10)  = PyFunc[Tin=[DT_UINT8, DT_INT32], Tout=[DT_INT64], token=\"pyfunc_13\", _device=\"/job:localhost/replica:0/task:0/device:CPU:0\"](ExpandDims_14, PyFunc_13/input_1)]]\n\nCaused by op 'PyFunc_13', defined at:\n  File \"/usr/lib/python3.6/runpy.py\", line 193, in _run_module_as_main\n    \"__main__\", mod_spec)\n  File \"/usr/lib/python3.6/runpy.py\", line 85, in _run_code\n    exec(code, run_globals)\n  File \"/home/viclule/zss/image_resize_n_linear/venv/lib/python3.6/site-packages/ipykernel_launcher.py\", line 16, in <module>\n    app.launch_new_instance()\n  File \"/home/viclule/zss/image_resize_n_linear/venv/lib/python3.6/site-packages/traitlets/config/application.py\", line 658, in launch_instance\n    app.start()\n  File \"/home/viclule/zss/image_resize_n_linear/venv/lib/python3.6/site-packages/ipykernel/kernelapp.py\", line 505, in start\n    self.io_loop.start()\n  File \"/home/viclule/zss/image_resize_n_linear/venv/lib/python3.6/site-packages/tornado/platform/asyncio.py\", line 132, in start\n    self.asyncio_loop.run_forever()\n  File \"/usr/lib/python3.6/asyncio/base_events.py\", line 427, in run_forever\n    self._run_once()\n  File \"/usr/lib/python3.6/asyncio/base_events.py\", line 1440, in _run_once\n    handle._run()\n  File \"/usr/lib/python3.6/asyncio/events.py\", line 145, in _run\n    self._callback(*self._args)\n  File \"/home/viclule/zss/image_resize_n_linear/venv/lib/python3.6/site-packages/tornado/ioloop.py\", line 758, in _run_callback\n    ret = callback()\n  File \"/home/viclule/zss/image_resize_n_linear/venv/lib/python3.6/site-packages/tornado/stack_context.py\", line 300, in null_wrapper\n    return fn(*args, **kwargs)\n  File \"/home/viclule/zss/image_resize_n_linear/venv/lib/python3.6/site-packages/tornado/gen.py\", line 1233, in inner\n    self.run()\n  File \"/home/viclule/zss/image_resize_n_linear/venv/lib/python3.6/site-packages/tornado/gen.py\", line 1147, in run\n    yielded = self.gen.send(value)\n  File \"/home/viclule/zss/image_resize_n_linear/venv/lib/python3.6/site-packages/ipykernel/kernelbase.py\", line 357, in process_one\n    yield gen.maybe_future(dispatch(*args))\n  File \"/home/viclule/zss/image_resize_n_linear/venv/lib/python3.6/site-packages/tornado/gen.py\", line 326, in wrapper\n    yielded = next(result)\n  File \"/home/viclule/zss/image_resize_n_linear/venv/lib/python3.6/site-packages/ipykernel/kernelbase.py\", line 267, in dispatch_shell\n    yield gen.maybe_future(handler(stream, idents, msg))\n  File \"/home/viclule/zss/image_resize_n_linear/venv/lib/python3.6/site-packages/tornado/gen.py\", line 326, in wrapper\n    yielded = next(result)\n  File \"/home/viclule/zss/image_resize_n_linear/venv/lib/python3.6/site-packages/ipykernel/kernelbase.py\", line 534, in execute_request\n    user_expressions, allow_stdin,\n  File \"/home/viclule/zss/image_resize_n_linear/venv/lib/python3.6/site-packages/tornado/gen.py\", line 326, in wrapper\n    yielded = next(result)\n  File \"/home/viclule/zss/image_resize_n_linear/venv/lib/python3.6/site-packages/ipykernel/ipkernel.py\", line 294, in do_execute\n    res = shell.run_cell(code, store_history=store_history, silent=silent)\n  File \"/home/viclule/zss/image_resize_n_linear/venv/lib/python3.6/site-packages/ipykernel/zmqshell.py\", line 536, in run_cell\n    return super(ZMQInteractiveShell, self).run_cell(*args, **kwargs)\n  File \"/home/viclule/zss/image_resize_n_linear/venv/lib/python3.6/site-packages/IPython/core/interactiveshell.py\", line 2819, in run_cell\n    raw_cell, store_history, silent, shell_futures)\n  File \"/home/viclule/zss/image_resize_n_linear/venv/lib/python3.6/site-packages/IPython/core/interactiveshell.py\", line 2845, in _run_cell\n    return runner(coro)\n  File \"/home/viclule/zss/image_resize_n_linear/venv/lib/python3.6/site-packages/IPython/core/async_helpers.py\", line 67, in _pseudo_sync_runner\n    coro.send(None)\n  File \"/home/viclule/zss/image_resize_n_linear/venv/lib/python3.6/site-packages/IPython/core/interactiveshell.py\", line 3020, in run_cell_async\n    interactivity=interactivity, compiler=compiler, result=result)\n  File \"/home/viclule/zss/image_resize_n_linear/venv/lib/python3.6/site-packages/IPython/core/interactiveshell.py\", line 3185, in run_ast_nodes\n    if (yield from self.run_code(code, result)):\n  File \"/home/viclule/zss/image_resize_n_linear/venv/lib/python3.6/site-packages/IPython/core/interactiveshell.py\", line 3267, in run_code\n    exec(code_obj, self.user_global_ns, self.user_ns)\n  File \"<ipython-input-65-a5d31db2842e>\", line 10, in <module>\n    images_resized = tf.py_func(resize_multilinear, [images, new_size], tf.int64)\n  File \"/home/viclule/zss/image_resize_n_linear/venv/lib/python3.6/site-packages/tensorflow/python/ops/script_ops.py\", line 457, in py_func\n    func=func, inp=inp, Tout=Tout, stateful=stateful, eager=False, name=name)\n  File \"/home/viclule/zss/image_resize_n_linear/venv/lib/python3.6/site-packages/tensorflow/python/ops/script_ops.py\", line 281, in _internal_py_func\n    input=inp, token=token, Tout=Tout, name=name)\n  File \"/home/viclule/zss/image_resize_n_linear/venv/lib/python3.6/site-packages/tensorflow/python/ops/gen_script_ops.py\", line 129, in py_func\n    \"PyFunc\", input=input, token=token, Tout=Tout, name=name)\n  File \"/home/viclule/zss/image_resize_n_linear/venv/lib/python3.6/site-packages/tensorflow/python/framework/op_def_library.py\", line 787, in _apply_op_helper\n    op_def=op_def)\n  File \"/home/viclule/zss/image_resize_n_linear/venv/lib/python3.6/site-packages/tensorflow/python/util/deprecation.py\", line 488, in new_func\n    return func(*args, **kwargs)\n  File \"/home/viclule/zss/image_resize_n_linear/venv/lib/python3.6/site-packages/tensorflow/python/framework/ops.py\", line 3274, in create_op\n    op_def=op_def)\n  File \"/home/viclule/zss/image_resize_n_linear/venv/lib/python3.6/site-packages/tensorflow/python/framework/ops.py\", line 1770, in __init__\n    self._traceback = tf_stack.extract_stack()\n\nUnknownError (see above for traceback): AttributeError: 'Tensor' object has no attribute 'value'\nTraceback (most recent call last):\n\n  File \"/home/viclule/zss/image_resize_n_linear/venv/lib/python3.6/site-packages/tensorflow/python/ops/script_ops.py\", line 206, in __call__\n    ret = func(*args)\n\n  File \"<ipython-input-62-d88e2304ccfb>\", line 41, in resize_multilinear\n    _, _, resized_content = tf.while_loop(cond, body, [0, 0, empty_resized_content])\n\n  File \"/home/viclule/zss/image_resize_n_linear/venv/lib/python3.6/site-packages/tensorflow/python/ops/control_flow_ops.py\", line 3291, in while_loop\n    return_same_structure)\n\n  File \"/home/viclule/zss/image_resize_n_linear/venv/lib/python3.6/site-packages/tensorflow/python/ops/control_flow_ops.py\", line 3004, in BuildLoop\n    pred, body, original_loop_vars, loop_vars, shape_invariants)\n\n  File \"/home/viclule/zss/image_resize_n_linear/venv/lib/python3.6/site-packages/tensorflow/python/ops/control_flow_ops.py\", line 2939, in _BuildLoop\n    body_result = body(*packed_vars_for_body)\n\n  File \"<ipython-input-62-d88e2304ccfb>\", line 23, in body\n    batch_i = batch.value\n\nAttributeError: 'Tensor' object has no attribute 'value'\n\n\n\t [[node PyFunc_13 (defined at <ipython-input-65-a5d31db2842e>:10)  = PyFunc[Tin=[DT_UINT8, DT_INT32], Tout=[DT_INT64], token=\"pyfunc_13\", _device=\"/job:localhost/replica:0/task:0/device:CPU:0\"](ExpandDims_14, PyFunc_13/input_1)]]\n",
     "output_type": "error",
     "traceback": [
      "\u001b[0;31m---------------------------------------------------------------------------\u001b[0m",
      "\u001b[0;31mUnknownError\u001b[0m                              Traceback (most recent call last)",
      "\u001b[0;32m~/zss/image_resize_n_linear/venv/lib/python3.6/site-packages/tensorflow/python/client/session.py\u001b[0m in \u001b[0;36m_do_call\u001b[0;34m(self, fn, *args)\u001b[0m\n\u001b[1;32m   1333\u001b[0m     \u001b[0;32mtry\u001b[0m\u001b[0;34m:\u001b[0m\u001b[0;34m\u001b[0m\u001b[0;34m\u001b[0m\u001b[0m\n\u001b[0;32m-> 1334\u001b[0;31m       \u001b[0;32mreturn\u001b[0m \u001b[0mfn\u001b[0m\u001b[0;34m(\u001b[0m\u001b[0;34m*\u001b[0m\u001b[0margs\u001b[0m\u001b[0;34m)\u001b[0m\u001b[0;34m\u001b[0m\u001b[0;34m\u001b[0m\u001b[0m\n\u001b[0m\u001b[1;32m   1335\u001b[0m     \u001b[0;32mexcept\u001b[0m \u001b[0merrors\u001b[0m\u001b[0;34m.\u001b[0m\u001b[0mOpError\u001b[0m \u001b[0;32mas\u001b[0m \u001b[0me\u001b[0m\u001b[0;34m:\u001b[0m\u001b[0;34m\u001b[0m\u001b[0;34m\u001b[0m\u001b[0m\n",
      "\u001b[0;32m~/zss/image_resize_n_linear/venv/lib/python3.6/site-packages/tensorflow/python/client/session.py\u001b[0m in \u001b[0;36m_run_fn\u001b[0;34m(feed_dict, fetch_list, target_list, options, run_metadata)\u001b[0m\n\u001b[1;32m   1318\u001b[0m       return self._call_tf_sessionrun(\n\u001b[0;32m-> 1319\u001b[0;31m           options, feed_dict, fetch_list, target_list, run_metadata)\n\u001b[0m\u001b[1;32m   1320\u001b[0m \u001b[0;34m\u001b[0m\u001b[0m\n",
      "\u001b[0;32m~/zss/image_resize_n_linear/venv/lib/python3.6/site-packages/tensorflow/python/client/session.py\u001b[0m in \u001b[0;36m_call_tf_sessionrun\u001b[0;34m(self, options, feed_dict, fetch_list, target_list, run_metadata)\u001b[0m\n\u001b[1;32m   1406\u001b[0m         \u001b[0mself\u001b[0m\u001b[0;34m.\u001b[0m\u001b[0m_session\u001b[0m\u001b[0;34m,\u001b[0m \u001b[0moptions\u001b[0m\u001b[0;34m,\u001b[0m \u001b[0mfeed_dict\u001b[0m\u001b[0;34m,\u001b[0m \u001b[0mfetch_list\u001b[0m\u001b[0;34m,\u001b[0m \u001b[0mtarget_list\u001b[0m\u001b[0;34m,\u001b[0m\u001b[0;34m\u001b[0m\u001b[0;34m\u001b[0m\u001b[0m\n\u001b[0;32m-> 1407\u001b[0;31m         run_metadata)\n\u001b[0m\u001b[1;32m   1408\u001b[0m \u001b[0;34m\u001b[0m\u001b[0m\n",
      "\u001b[0;31mUnknownError\u001b[0m: AttributeError: 'Tensor' object has no attribute 'value'\nTraceback (most recent call last):\n\n  File \"/home/viclule/zss/image_resize_n_linear/venv/lib/python3.6/site-packages/tensorflow/python/ops/script_ops.py\", line 206, in __call__\n    ret = func(*args)\n\n  File \"<ipython-input-62-d88e2304ccfb>\", line 41, in resize_multilinear\n    _, _, resized_content = tf.while_loop(cond, body, [0, 0, empty_resized_content])\n\n  File \"/home/viclule/zss/image_resize_n_linear/venv/lib/python3.6/site-packages/tensorflow/python/ops/control_flow_ops.py\", line 3291, in while_loop\n    return_same_structure)\n\n  File \"/home/viclule/zss/image_resize_n_linear/venv/lib/python3.6/site-packages/tensorflow/python/ops/control_flow_ops.py\", line 3004, in BuildLoop\n    pred, body, original_loop_vars, loop_vars, shape_invariants)\n\n  File \"/home/viclule/zss/image_resize_n_linear/venv/lib/python3.6/site-packages/tensorflow/python/ops/control_flow_ops.py\", line 2939, in _BuildLoop\n    body_result = body(*packed_vars_for_body)\n\n  File \"<ipython-input-62-d88e2304ccfb>\", line 23, in body\n    batch_i = batch.value\n\nAttributeError: 'Tensor' object has no attribute 'value'\n\n\n\t [[{{node PyFunc_13}} = PyFunc[Tin=[DT_UINT8, DT_INT32], Tout=[DT_INT64], token=\"pyfunc_13\", _device=\"/job:localhost/replica:0/task:0/device:CPU:0\"](ExpandDims_14, PyFunc_13/input_1)]]",
      "\nDuring handling of the above exception, another exception occurred:\n",
      "\u001b[0;31mUnknownError\u001b[0m                              Traceback (most recent call last)",
      "\u001b[0;32m<ipython-input-65-a5d31db2842e>\u001b[0m in \u001b[0;36m<module>\u001b[0;34m\u001b[0m\n\u001b[1;32m     13\u001b[0m \u001b[0;32mwith\u001b[0m \u001b[0mtf\u001b[0m\u001b[0;34m.\u001b[0m\u001b[0mSession\u001b[0m\u001b[0;34m(\u001b[0m\u001b[0;34m)\u001b[0m \u001b[0;32mas\u001b[0m \u001b[0msess\u001b[0m\u001b[0;34m:\u001b[0m\u001b[0;34m\u001b[0m\u001b[0;34m\u001b[0m\u001b[0m\n\u001b[1;32m     14\u001b[0m     \u001b[0mtf\u001b[0m\u001b[0;34m.\u001b[0m\u001b[0mglobal_variables_initializer\u001b[0m\u001b[0;34m(\u001b[0m\u001b[0;34m)\u001b[0m\u001b[0;34m\u001b[0m\u001b[0;34m\u001b[0m\u001b[0m\n\u001b[0;32m---> 15\u001b[0;31m     \u001b[0mmy_result\u001b[0m \u001b[0;34m=\u001b[0m \u001b[0msess\u001b[0m\u001b[0;34m.\u001b[0m\u001b[0mrun\u001b[0m\u001b[0;34m(\u001b[0m\u001b[0mimages_resized\u001b[0m\u001b[0;34m)\u001b[0m\u001b[0;34m\u001b[0m\u001b[0;34m\u001b[0m\u001b[0m\n\u001b[0m\u001b[1;32m     16\u001b[0m \u001b[0mprint\u001b[0m\u001b[0;34m(\u001b[0m\u001b[0;34m'Execution time:'\u001b[0m\u001b[0;34m,\u001b[0m \u001b[0mtime\u001b[0m\u001b[0;34m.\u001b[0m\u001b[0mtime\u001b[0m\u001b[0;34m(\u001b[0m\u001b[0;34m)\u001b[0m \u001b[0;34m-\u001b[0m \u001b[0mstart\u001b[0m\u001b[0;34m)\u001b[0m\u001b[0;34m\u001b[0m\u001b[0;34m\u001b[0m\u001b[0m\n\u001b[1;32m     17\u001b[0m \u001b[0;34m\u001b[0m\u001b[0m\n",
      "\u001b[0;32m~/zss/image_resize_n_linear/venv/lib/python3.6/site-packages/tensorflow/python/client/session.py\u001b[0m in \u001b[0;36mrun\u001b[0;34m(self, fetches, feed_dict, options, run_metadata)\u001b[0m\n\u001b[1;32m    927\u001b[0m     \u001b[0;32mtry\u001b[0m\u001b[0;34m:\u001b[0m\u001b[0;34m\u001b[0m\u001b[0;34m\u001b[0m\u001b[0m\n\u001b[1;32m    928\u001b[0m       result = self._run(None, fetches, feed_dict, options_ptr,\n\u001b[0;32m--> 929\u001b[0;31m                          run_metadata_ptr)\n\u001b[0m\u001b[1;32m    930\u001b[0m       \u001b[0;32mif\u001b[0m \u001b[0mrun_metadata\u001b[0m\u001b[0;34m:\u001b[0m\u001b[0;34m\u001b[0m\u001b[0;34m\u001b[0m\u001b[0m\n\u001b[1;32m    931\u001b[0m         \u001b[0mproto_data\u001b[0m \u001b[0;34m=\u001b[0m \u001b[0mtf_session\u001b[0m\u001b[0;34m.\u001b[0m\u001b[0mTF_GetBuffer\u001b[0m\u001b[0;34m(\u001b[0m\u001b[0mrun_metadata_ptr\u001b[0m\u001b[0;34m)\u001b[0m\u001b[0;34m\u001b[0m\u001b[0;34m\u001b[0m\u001b[0m\n",
      "\u001b[0;32m~/zss/image_resize_n_linear/venv/lib/python3.6/site-packages/tensorflow/python/client/session.py\u001b[0m in \u001b[0;36m_run\u001b[0;34m(self, handle, fetches, feed_dict, options, run_metadata)\u001b[0m\n\u001b[1;32m   1150\u001b[0m     \u001b[0;32mif\u001b[0m \u001b[0mfinal_fetches\u001b[0m \u001b[0;32mor\u001b[0m \u001b[0mfinal_targets\u001b[0m \u001b[0;32mor\u001b[0m \u001b[0;34m(\u001b[0m\u001b[0mhandle\u001b[0m \u001b[0;32mand\u001b[0m \u001b[0mfeed_dict_tensor\u001b[0m\u001b[0;34m)\u001b[0m\u001b[0;34m:\u001b[0m\u001b[0;34m\u001b[0m\u001b[0;34m\u001b[0m\u001b[0m\n\u001b[1;32m   1151\u001b[0m       results = self._do_run(handle, final_targets, final_fetches,\n\u001b[0;32m-> 1152\u001b[0;31m                              feed_dict_tensor, options, run_metadata)\n\u001b[0m\u001b[1;32m   1153\u001b[0m     \u001b[0;32melse\u001b[0m\u001b[0;34m:\u001b[0m\u001b[0;34m\u001b[0m\u001b[0;34m\u001b[0m\u001b[0m\n\u001b[1;32m   1154\u001b[0m       \u001b[0mresults\u001b[0m \u001b[0;34m=\u001b[0m \u001b[0;34m[\u001b[0m\u001b[0;34m]\u001b[0m\u001b[0;34m\u001b[0m\u001b[0;34m\u001b[0m\u001b[0m\n",
      "\u001b[0;32m~/zss/image_resize_n_linear/venv/lib/python3.6/site-packages/tensorflow/python/client/session.py\u001b[0m in \u001b[0;36m_do_run\u001b[0;34m(self, handle, target_list, fetch_list, feed_dict, options, run_metadata)\u001b[0m\n\u001b[1;32m   1326\u001b[0m     \u001b[0;32mif\u001b[0m \u001b[0mhandle\u001b[0m \u001b[0;32mis\u001b[0m \u001b[0;32mNone\u001b[0m\u001b[0;34m:\u001b[0m\u001b[0;34m\u001b[0m\u001b[0;34m\u001b[0m\u001b[0m\n\u001b[1;32m   1327\u001b[0m       return self._do_call(_run_fn, feeds, fetches, targets, options,\n\u001b[0;32m-> 1328\u001b[0;31m                            run_metadata)\n\u001b[0m\u001b[1;32m   1329\u001b[0m     \u001b[0;32melse\u001b[0m\u001b[0;34m:\u001b[0m\u001b[0;34m\u001b[0m\u001b[0;34m\u001b[0m\u001b[0m\n\u001b[1;32m   1330\u001b[0m       \u001b[0;32mreturn\u001b[0m \u001b[0mself\u001b[0m\u001b[0;34m.\u001b[0m\u001b[0m_do_call\u001b[0m\u001b[0;34m(\u001b[0m\u001b[0m_prun_fn\u001b[0m\u001b[0;34m,\u001b[0m \u001b[0mhandle\u001b[0m\u001b[0;34m,\u001b[0m \u001b[0mfeeds\u001b[0m\u001b[0;34m,\u001b[0m \u001b[0mfetches\u001b[0m\u001b[0;34m)\u001b[0m\u001b[0;34m\u001b[0m\u001b[0;34m\u001b[0m\u001b[0m\n",
      "\u001b[0;32m~/zss/image_resize_n_linear/venv/lib/python3.6/site-packages/tensorflow/python/client/session.py\u001b[0m in \u001b[0;36m_do_call\u001b[0;34m(self, fn, *args)\u001b[0m\n\u001b[1;32m   1346\u001b[0m           \u001b[0;32mpass\u001b[0m\u001b[0;34m\u001b[0m\u001b[0;34m\u001b[0m\u001b[0m\n\u001b[1;32m   1347\u001b[0m       \u001b[0mmessage\u001b[0m \u001b[0;34m=\u001b[0m \u001b[0merror_interpolation\u001b[0m\u001b[0;34m.\u001b[0m\u001b[0minterpolate\u001b[0m\u001b[0;34m(\u001b[0m\u001b[0mmessage\u001b[0m\u001b[0;34m,\u001b[0m \u001b[0mself\u001b[0m\u001b[0;34m.\u001b[0m\u001b[0m_graph\u001b[0m\u001b[0;34m)\u001b[0m\u001b[0;34m\u001b[0m\u001b[0;34m\u001b[0m\u001b[0m\n\u001b[0;32m-> 1348\u001b[0;31m       \u001b[0;32mraise\u001b[0m \u001b[0mtype\u001b[0m\u001b[0;34m(\u001b[0m\u001b[0me\u001b[0m\u001b[0;34m)\u001b[0m\u001b[0;34m(\u001b[0m\u001b[0mnode_def\u001b[0m\u001b[0;34m,\u001b[0m \u001b[0mop\u001b[0m\u001b[0;34m,\u001b[0m \u001b[0mmessage\u001b[0m\u001b[0;34m)\u001b[0m\u001b[0;34m\u001b[0m\u001b[0;34m\u001b[0m\u001b[0m\n\u001b[0m\u001b[1;32m   1349\u001b[0m \u001b[0;34m\u001b[0m\u001b[0m\n\u001b[1;32m   1350\u001b[0m   \u001b[0;32mdef\u001b[0m \u001b[0m_extend_graph\u001b[0m\u001b[0;34m(\u001b[0m\u001b[0mself\u001b[0m\u001b[0;34m)\u001b[0m\u001b[0;34m:\u001b[0m\u001b[0;34m\u001b[0m\u001b[0;34m\u001b[0m\u001b[0m\n",
      "\u001b[0;31mUnknownError\u001b[0m: AttributeError: 'Tensor' object has no attribute 'value'\nTraceback (most recent call last):\n\n  File \"/home/viclule/zss/image_resize_n_linear/venv/lib/python3.6/site-packages/tensorflow/python/ops/script_ops.py\", line 206, in __call__\n    ret = func(*args)\n\n  File \"<ipython-input-62-d88e2304ccfb>\", line 41, in resize_multilinear\n    _, _, resized_content = tf.while_loop(cond, body, [0, 0, empty_resized_content])\n\n  File \"/home/viclule/zss/image_resize_n_linear/venv/lib/python3.6/site-packages/tensorflow/python/ops/control_flow_ops.py\", line 3291, in while_loop\n    return_same_structure)\n\n  File \"/home/viclule/zss/image_resize_n_linear/venv/lib/python3.6/site-packages/tensorflow/python/ops/control_flow_ops.py\", line 3004, in BuildLoop\n    pred, body, original_loop_vars, loop_vars, shape_invariants)\n\n  File \"/home/viclule/zss/image_resize_n_linear/venv/lib/python3.6/site-packages/tensorflow/python/ops/control_flow_ops.py\", line 2939, in _BuildLoop\n    body_result = body(*packed_vars_for_body)\n\n  File \"<ipython-input-62-d88e2304ccfb>\", line 23, in body\n    batch_i = batch.value\n\nAttributeError: 'Tensor' object has no attribute 'value'\n\n\n\t [[node PyFunc_13 (defined at <ipython-input-65-a5d31db2842e>:10)  = PyFunc[Tin=[DT_UINT8, DT_INT32], Tout=[DT_INT64], token=\"pyfunc_13\", _device=\"/job:localhost/replica:0/task:0/device:CPU:0\"](ExpandDims_14, PyFunc_13/input_1)]]\n\nCaused by op 'PyFunc_13', defined at:\n  File \"/usr/lib/python3.6/runpy.py\", line 193, in _run_module_as_main\n    \"__main__\", mod_spec)\n  File \"/usr/lib/python3.6/runpy.py\", line 85, in _run_code\n    exec(code, run_globals)\n  File \"/home/viclule/zss/image_resize_n_linear/venv/lib/python3.6/site-packages/ipykernel_launcher.py\", line 16, in <module>\n    app.launch_new_instance()\n  File \"/home/viclule/zss/image_resize_n_linear/venv/lib/python3.6/site-packages/traitlets/config/application.py\", line 658, in launch_instance\n    app.start()\n  File \"/home/viclule/zss/image_resize_n_linear/venv/lib/python3.6/site-packages/ipykernel/kernelapp.py\", line 505, in start\n    self.io_loop.start()\n  File \"/home/viclule/zss/image_resize_n_linear/venv/lib/python3.6/site-packages/tornado/platform/asyncio.py\", line 132, in start\n    self.asyncio_loop.run_forever()\n  File \"/usr/lib/python3.6/asyncio/base_events.py\", line 427, in run_forever\n    self._run_once()\n  File \"/usr/lib/python3.6/asyncio/base_events.py\", line 1440, in _run_once\n    handle._run()\n  File \"/usr/lib/python3.6/asyncio/events.py\", line 145, in _run\n    self._callback(*self._args)\n  File \"/home/viclule/zss/image_resize_n_linear/venv/lib/python3.6/site-packages/tornado/ioloop.py\", line 758, in _run_callback\n    ret = callback()\n  File \"/home/viclule/zss/image_resize_n_linear/venv/lib/python3.6/site-packages/tornado/stack_context.py\", line 300, in null_wrapper\n    return fn(*args, **kwargs)\n  File \"/home/viclule/zss/image_resize_n_linear/venv/lib/python3.6/site-packages/tornado/gen.py\", line 1233, in inner\n    self.run()\n  File \"/home/viclule/zss/image_resize_n_linear/venv/lib/python3.6/site-packages/tornado/gen.py\", line 1147, in run\n    yielded = self.gen.send(value)\n  File \"/home/viclule/zss/image_resize_n_linear/venv/lib/python3.6/site-packages/ipykernel/kernelbase.py\", line 357, in process_one\n    yield gen.maybe_future(dispatch(*args))\n  File \"/home/viclule/zss/image_resize_n_linear/venv/lib/python3.6/site-packages/tornado/gen.py\", line 326, in wrapper\n    yielded = next(result)\n  File \"/home/viclule/zss/image_resize_n_linear/venv/lib/python3.6/site-packages/ipykernel/kernelbase.py\", line 267, in dispatch_shell\n    yield gen.maybe_future(handler(stream, idents, msg))\n  File \"/home/viclule/zss/image_resize_n_linear/venv/lib/python3.6/site-packages/tornado/gen.py\", line 326, in wrapper\n    yielded = next(result)\n  File \"/home/viclule/zss/image_resize_n_linear/venv/lib/python3.6/site-packages/ipykernel/kernelbase.py\", line 534, in execute_request\n    user_expressions, allow_stdin,\n  File \"/home/viclule/zss/image_resize_n_linear/venv/lib/python3.6/site-packages/tornado/gen.py\", line 326, in wrapper\n    yielded = next(result)\n  File \"/home/viclule/zss/image_resize_n_linear/venv/lib/python3.6/site-packages/ipykernel/ipkernel.py\", line 294, in do_execute\n    res = shell.run_cell(code, store_history=store_history, silent=silent)\n  File \"/home/viclule/zss/image_resize_n_linear/venv/lib/python3.6/site-packages/ipykernel/zmqshell.py\", line 536, in run_cell\n    return super(ZMQInteractiveShell, self).run_cell(*args, **kwargs)\n  File \"/home/viclule/zss/image_resize_n_linear/venv/lib/python3.6/site-packages/IPython/core/interactiveshell.py\", line 2819, in run_cell\n    raw_cell, store_history, silent, shell_futures)\n  File \"/home/viclule/zss/image_resize_n_linear/venv/lib/python3.6/site-packages/IPython/core/interactiveshell.py\", line 2845, in _run_cell\n    return runner(coro)\n  File \"/home/viclule/zss/image_resize_n_linear/venv/lib/python3.6/site-packages/IPython/core/async_helpers.py\", line 67, in _pseudo_sync_runner\n    coro.send(None)\n  File \"/home/viclule/zss/image_resize_n_linear/venv/lib/python3.6/site-packages/IPython/core/interactiveshell.py\", line 3020, in run_cell_async\n    interactivity=interactivity, compiler=compiler, result=result)\n  File \"/home/viclule/zss/image_resize_n_linear/venv/lib/python3.6/site-packages/IPython/core/interactiveshell.py\", line 3185, in run_ast_nodes\n    if (yield from self.run_code(code, result)):\n  File \"/home/viclule/zss/image_resize_n_linear/venv/lib/python3.6/site-packages/IPython/core/interactiveshell.py\", line 3267, in run_code\n    exec(code_obj, self.user_global_ns, self.user_ns)\n  File \"<ipython-input-65-a5d31db2842e>\", line 10, in <module>\n    images_resized = tf.py_func(resize_multilinear, [images, new_size], tf.int64)\n  File \"/home/viclule/zss/image_resize_n_linear/venv/lib/python3.6/site-packages/tensorflow/python/ops/script_ops.py\", line 457, in py_func\n    func=func, inp=inp, Tout=Tout, stateful=stateful, eager=False, name=name)\n  File \"/home/viclule/zss/image_resize_n_linear/venv/lib/python3.6/site-packages/tensorflow/python/ops/script_ops.py\", line 281, in _internal_py_func\n    input=inp, token=token, Tout=Tout, name=name)\n  File \"/home/viclule/zss/image_resize_n_linear/venv/lib/python3.6/site-packages/tensorflow/python/ops/gen_script_ops.py\", line 129, in py_func\n    \"PyFunc\", input=input, token=token, Tout=Tout, name=name)\n  File \"/home/viclule/zss/image_resize_n_linear/venv/lib/python3.6/site-packages/tensorflow/python/framework/op_def_library.py\", line 787, in _apply_op_helper\n    op_def=op_def)\n  File \"/home/viclule/zss/image_resize_n_linear/venv/lib/python3.6/site-packages/tensorflow/python/util/deprecation.py\", line 488, in new_func\n    return func(*args, **kwargs)\n  File \"/home/viclule/zss/image_resize_n_linear/venv/lib/python3.6/site-packages/tensorflow/python/framework/ops.py\", line 3274, in create_op\n    op_def=op_def)\n  File \"/home/viclule/zss/image_resize_n_linear/venv/lib/python3.6/site-packages/tensorflow/python/framework/ops.py\", line 1770, in __init__\n    self._traceback = tf_stack.extract_stack()\n\nUnknownError (see above for traceback): AttributeError: 'Tensor' object has no attribute 'value'\nTraceback (most recent call last):\n\n  File \"/home/viclule/zss/image_resize_n_linear/venv/lib/python3.6/site-packages/tensorflow/python/ops/script_ops.py\", line 206, in __call__\n    ret = func(*args)\n\n  File \"<ipython-input-62-d88e2304ccfb>\", line 41, in resize_multilinear\n    _, _, resized_content = tf.while_loop(cond, body, [0, 0, empty_resized_content])\n\n  File \"/home/viclule/zss/image_resize_n_linear/venv/lib/python3.6/site-packages/tensorflow/python/ops/control_flow_ops.py\", line 3291, in while_loop\n    return_same_structure)\n\n  File \"/home/viclule/zss/image_resize_n_linear/venv/lib/python3.6/site-packages/tensorflow/python/ops/control_flow_ops.py\", line 3004, in BuildLoop\n    pred, body, original_loop_vars, loop_vars, shape_invariants)\n\n  File \"/home/viclule/zss/image_resize_n_linear/venv/lib/python3.6/site-packages/tensorflow/python/ops/control_flow_ops.py\", line 2939, in _BuildLoop\n    body_result = body(*packed_vars_for_body)\n\n  File \"<ipython-input-62-d88e2304ccfb>\", line 23, in body\n    batch_i = batch.value\n\nAttributeError: 'Tensor' object has no attribute 'value'\n\n\n\t [[node PyFunc_13 (defined at <ipython-input-65-a5d31db2842e>:10)  = PyFunc[Tin=[DT_UINT8, DT_INT32], Tout=[DT_INT64], token=\"pyfunc_13\", _device=\"/job:localhost/replica:0/task:0/device:CPU:0\"](ExpandDims_14, PyFunc_13/input_1)]]\n"
     ]
    }
   ],
   "source": [
    "new_size = np.ones((2), dtype=np.int32)\n",
    "new_size[0] = 100\n",
    "new_size[1] = 100\n",
    "\n",
    "# Using resize_multilinear\n",
    "\n",
    "image_content = tf.read_file(file_path)\n",
    "image_decoded = tf.image.decode_png(image_content, channels=0)\n",
    "images = tf.expand_dims(image_decoded, 0)\n",
    "images_resized = tf.py_func(resize_multilinear, [images, new_size], tf.int64)\n",
    "\n",
    "start = time.time()\n",
    "with tf.Session() as sess:\n",
    "    tf.global_variables_initializer()\n",
    "    my_result = sess.run(images_resized)\n",
    "print('Execution time:', time.time() - start)\n",
    "    \n",
    "fig, ax = plt.subplots()\n",
    "ax.imshow(my_result[0, :, :, :])\n",
    "ax.axis('off')  # clear x-axis and y-axis\n",
    "plt.show()"
   ]
  },
  {
   "cell_type": "code",
   "execution_count": 61,
   "metadata": {},
   "outputs": [
    {
     "name": "stdout",
     "output_type": "stream",
     "text": [
      "Execution time: 0.00947260856628418\n"
     ]
    },
    {
     "data": {
      "image/png": "[encoded data removed]",
      "text/plain": [
       "<Figure size 432x288 with 1 Axes>"
      ]
     },
     "metadata": {
      "needs_background": "light"
     },
     "output_type": "display_data"
    }
   ],
   "source": [
    "# Using tf.image.resize_bilinear\n",
    "\n",
    "image_content = tf.read_file(file_path)\n",
    "image_decoded = tf.image.decode_png(image_content, channels=0)\n",
    "images = tf.expand_dims(image_decoded, 0)\n",
    "images_resized = tf.image.resize_bilinear(images, new_size)\n",
    "images_resized_int = tf.cast(images_resized, tf.int32)\n",
    "\n",
    "start = time.time()\n",
    "with tf.Session() as sess:\n",
    "    tf_result = sess.run(images_resized_int)\n",
    "print('Execution time:', time.time() - start)\n",
    "\n",
    "fig, ax = plt.subplots()\n",
    "ax.imshow(tf_result[0, :, :, :])\n",
    "ax.axis('off')  # clear x-axis and y-axis\n",
    "plt.show()"
   ]
  },
  {
   "cell_type": "markdown",
   "metadata": {},
   "source": [
    "#### Differences"
   ]
  },
  {
   "cell_type": "code",
   "execution_count": 12,
   "metadata": {},
   "outputs": [],
   "source": [
    "diff = my_result[0, :, :, :] - tf_result[0, :, :, :]"
   ]
  },
  {
   "cell_type": "code",
   "execution_count": 13,
   "metadata": {},
   "outputs": [
    {
     "data": {
      "text/plain": [
       "1"
      ]
     },
     "execution_count": 13,
     "metadata": {},
     "output_type": "execute_result"
    }
   ],
   "source": [
    "diff[:,:,:].max()"
   ]
  },
  {
   "cell_type": "markdown",
   "metadata": {},
   "source": [
    "There is most probably an error in how floats get rounded to int"
   ]
  },
  {
   "cell_type": "code",
   "execution_count": null,
   "metadata": {},
   "outputs": [],
   "source": []
  }
 ],
 "metadata": {
  "kernelspec": {
   "display_name": "multi_resize",
   "language": "python",
   "name": "multi_resize"
  },
  "language_info": {
   "codemirror_mode": {
    "name": "ipython",
    "version": 3
   },
   "file_extension": ".py",
   "mimetype": "text/x-python",
   "name": "python",
   "nbconvert_exporter": "python",
   "pygments_lexer": "ipython3",
   "version": "3.6.8"
  }
 },
 "nbformat": 4,
 "nbformat_minor": 2
}
