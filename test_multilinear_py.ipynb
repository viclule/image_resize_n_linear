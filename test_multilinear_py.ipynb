{
 "cells": [
  {
   "cell_type": "markdown",
   "metadata": {},
   "source": [
    "## Testing the numpy based multilinear interpolator"
   ]
  },
  {
   "cell_type": "code",
   "execution_count": 1,
   "metadata": {},
   "outputs": [],
   "source": [
    "import tensorflow as tf\n",
    "import numpy as np\n",
    "import sys, os\n",
    "import matplotlib.pyplot as plt\n",
    "%matplotlib inline\n",
    "import time\n",
    "import imageio\n",
    "\n",
    "wk_dir = os.path.abspath(os.path.dirname('__file__'))"
   ]
  },
  {
   "cell_type": "code",
   "execution_count": 2,
   "metadata": {},
   "outputs": [],
   "source": [
    "from interpolators.multilinear_inter_n_dim import resize_multilinear_py"
   ]
  },
  {
   "cell_type": "code",
   "execution_count": 3,
   "metadata": {},
   "outputs": [],
   "source": [
    "# read an image and resize it\n",
    "file_name = 'images/android.png'\n",
    "file_path = os.path.join(wk_dir, file_name)"
   ]
  },
  {
   "cell_type": "markdown",
   "metadata": {},
   "source": [
    "# A simple 2D image"
   ]
  },
  {
   "cell_type": "markdown",
   "metadata": {},
   "source": [
    "#### Original image"
   ]
  },
  {
   "cell_type": "code",
   "execution_count": 4,
   "metadata": {},
   "outputs": [
    {
     "data": {
      "image/png": "[encoded data removed]",
      "text/plain": [
       "<IPython.core.display.Image object>"
      ]
     },
     "execution_count": 4,
     "metadata": {},
     "output_type": "execute_result"
    }
   ],
   "source": [
    "# Original\n",
    "from IPython.display import Image\n",
    "Image(file_name)"
   ]
  },
  {
   "cell_type": "markdown",
   "metadata": {},
   "source": [
    "#### Using resize_multilinear_py"
   ]
  },
  {
   "cell_type": "code",
   "execution_count": 5,
   "metadata": {},
   "outputs": [],
   "source": [
    "new_size = np.ones((2), dtype=np.int32)\n",
    "new_size[0] = 100\n",
    "new_size[1] = 100"
   ]
  },
  {
   "cell_type": "code",
   "execution_count": 6,
   "metadata": {},
   "outputs": [
    {
     "name": "stdout",
     "output_type": "stream",
     "text": [
      "(1, 245, 206, 4)\n",
      "Execution time: 1.1135210990905762\n",
      "(1, 100, 100, 4)\n"
     ]
    },
    {
     "data": {
      "image/png": "[encoded data removed]",
      "text/plain": [
       "<Figure size 432x288 with 1 Axes>"
      ]
     },
     "metadata": {
      "needs_background": "light"
     },
     "output_type": "display_data"
    }
   ],
   "source": [
    "# load image\n",
    "image = imageio.imread(file_name).astype(np.float32)\n",
    "image = image[np.newaxis,...]\n",
    "print(image.shape)\n",
    "\n",
    "start = time.time()\n",
    "image_resized = resize_multilinear_py(image, new_size)\n",
    "print('Execution time:', time.time() - start)\n",
    "print(image_resized.shape)\n",
    "\n",
    "fig, ax = plt.subplots()\n",
    "ax.imshow(image_resized[0, :, :, :])\n",
    "ax.axis('off')  # clear x-axis and y-axis\n",
    "plt.show()"
   ]
  },
  {
   "cell_type": "markdown",
   "metadata": {},
   "source": [
    "#### Using tf.image.resize_bilinear"
   ]
  },
  {
   "cell_type": "code",
   "execution_count": 7,
   "metadata": {},
   "outputs": [
    {
     "name": "stdout",
     "output_type": "stream",
     "text": [
      "Execution time: 0.019841909408569336\n",
      "(1, 100, 100, 3)\n"
     ]
    },
    {
     "data": {
      "image/png": "[encoded data removed]",
      "text/plain": [
       "<Figure size 432x288 with 1 Axes>"
      ]
     },
     "metadata": {
      "needs_background": "light"
     },
     "output_type": "display_data"
    }
   ],
   "source": [
    "# Using tf.image.resize_bilinear\n",
    "\n",
    "image_content = tf.read_file(file_path)\n",
    "image_decoded = tf.image.decode_png(image_content, channels=0)\n",
    "images = tf.expand_dims(image_decoded, 0)\n",
    "images_resized = tf.image.resize_bilinear(images, new_size)\n",
    "images_resized_int = tf.cast(images_resized, tf.int32)\n",
    "\n",
    "start = time.time()\n",
    "with tf.Session() as sess:\n",
    "    tf_result = sess.run(images_resized_int)\n",
    "print('Execution time:', time.time() - start)\n",
    "print(tf_result.shape)\n",
    "\n",
    "fig, ax = plt.subplots()\n",
    "ax.imshow(tf_result[0, :, :, :])\n",
    "ax.axis('off')  # clear x-axis and y-axis\n",
    "plt.show()"
   ]
  },
  {
   "cell_type": "markdown",
   "metadata": {},
   "source": [
    "# A simple 3D example using the same image\n",
    "#### Using resize_multilinear_py\n",
    "1. Building a 3D volume using a black image, the android image and a white image. [1, 245, 206, 3, 4]\n",
    "[1 batch, height, width, depth, 4 channels]\n",
    "2. Resize the 3D volume to [1, 100, 100, 5, 4]\n",
    "\n",
    "Expectations: [1, 100, 100, 2, 4] will be half way darker\n",
    "\n",
    "Expectations: [1, 100, 100, 4, 4] will be half way brighter"
   ]
  },
  {
   "cell_type": "code",
   "execution_count": 8,
   "metadata": {},
   "outputs": [
    {
     "name": "stdout",
     "output_type": "stream",
     "text": [
      "(245, 206, 4)\n",
      "(1, 245, 206, 3, 4)\n"
     ]
    },
    {
     "data": {
      "image/png": "[encoded data removed]",
      "text/plain": [
       "<Figure size 648x720 with 3 Axes>"
      ]
     },
     "metadata": {
      "needs_background": "light"
     },
     "output_type": "display_data"
    }
   ],
   "source": [
    "# build the 3d volume\n",
    "file_name = 'images/android_black.png'\n",
    "file_path = os.path.join(wk_dir, file_name)\n",
    "image_black = imageio.imread(file_name).astype(np.float32)\n",
    "file_name = 'images/android.png'\n",
    "file_path = os.path.join(wk_dir, file_name)\n",
    "image_orig = imageio.imread(file_name).astype(np.float32)\n",
    "file_name = 'images/android_white.png'\n",
    "file_path = os.path.join(wk_dir, file_name)\n",
    "image_white = imageio.imread(file_name).astype(np.float32)\n",
    "print(image_white.shape)\n",
    "\n",
    "d3_volume = np.zeros((1, 245, 206, 3, 4))\n",
    "d3_volume[0,:,:,0,:] = image_black\n",
    "d3_volume[0,:,:,1,:] = image_orig\n",
    "d3_volume[0,:,:,2,:] = image_white\n",
    "print(d3_volume.shape)\n",
    "\n",
    "fig = plt.figure(figsize=(9,10))\n",
    "for i in range(3):\n",
    "    ax = fig.add_subplot(1, 3, i+1)\n",
    "    ax.imshow(d3_volume[0,:,:,i,:].astype(np.int32))\n",
    "    ax.axis('off')  # clear x-axis and y-axis\n",
    "plt.show()"
   ]
  },
  {
   "cell_type": "code",
   "execution_count": 9,
   "metadata": {},
   "outputs": [],
   "source": [
    "new_size = np.ones((3), dtype=np.int32)\n",
    "new_size[0] = 100\n",
    "new_size[1] = 100\n",
    "new_size[2] = 5"
   ]
  },
  {
   "cell_type": "code",
   "execution_count": 12,
   "metadata": {},
   "outputs": [
    {
     "name": "stdout",
     "output_type": "stream",
     "text": [
      "Interpolating...\n",
      "Execution time: 10.327733993530273\n",
      "(1, 100, 100, 5, 4)\n"
     ]
    }
   ],
   "source": [
    "# Do the interpolation\n",
    "print('Interpolating...')\n",
    "start = time.time()\n",
    "image_resized = resize_multilinear_py(d3_volume, new_size)\n",
    "print('Execution time:', time.time() - start)\n",
    "print(image_resized.shape)"
   ]
  },
  {
   "cell_type": "code",
   "execution_count": 13,
   "metadata": {},
   "outputs": [
    {
     "data": {
      "image/png": "[encoded data removed]",
      "text/plain": [
       "<Figure size 1080x720 with 5 Axes>"
      ]
     },
     "metadata": {
      "needs_background": "light"
     },
     "output_type": "display_data"
    }
   ],
   "source": [
    "fig = plt.figure(figsize=(15,10))\n",
    "\n",
    "for i in range(5):\n",
    "    ax = fig.add_subplot(1, 5, i+1)\n",
    "    ax.imshow(image_resized[0,:,:,i,:].astype(np.int32))\n",
    "    ax.axis('off')  # clear x-axis and y-axis\n",
    "plt.show()"
   ]
  },
  {
   "cell_type": "markdown",
   "metadata": {},
   "source": [
    "The result looks as expected. :)\n",
    "\n",
    "But it took 10s to calculate. :("
   ]
  },
  {
   "cell_type": "code",
   "execution_count": null,
   "metadata": {},
   "outputs": [],
   "source": []
  }
 ],
 "metadata": {
  "kernelspec": {
   "display_name": "multi_resize",
   "language": "python",
   "name": "multi_resize"
  },
  "language_info": {
   "codemirror_mode": {
    "name": "ipython",
    "version": 3
   },
   "file_extension": ".py",
   "mimetype": "text/x-python",
   "name": "python",
   "nbconvert_exporter": "python",
   "pygments_lexer": "ipython3",
   "version": "3.6.8"
  }
 },
 "nbformat": 4,
 "nbformat_minor": 2
}
